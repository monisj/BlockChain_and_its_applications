{
 "cells": [
  {
   "cell_type": "code",
   "execution_count": 1,
   "id": "a75cdbae",
   "metadata": {},
   "outputs": [
    {
     "name": "stdout",
     "output_type": "stream",
     "text": [
      "✅ PoW Found: nonce=490e9a1f, hash=00000c2cc97ac729..., attempts=1031436\n",
      "🔍 Verifier checks ZKP proof...\n",
      "✅ ZKP Verification: True\n"
     ]
    }
   ],
   "source": [
    "import hashlib\n",
    "import random\n",
    "\n",
    "# --- PoW parameters ---\n",
    "difficulty_bits = 20  # Smaller = easier PoW\n",
    "target = 2**(256 - difficulty_bits)\n",
    "\n",
    "# --- Simulated \"private\" secret ---\n",
    "secret = \"Patient X Diagnosis\"\n",
    "secret_bytes = secret.encode()\n",
    "\n",
    "# --- Prover: Find nonce that satisfies PoW ---\n",
    "def find_valid_nonce(secret_bytes):\n",
    "    attempts = 0\n",
    "    while True:\n",
    "        nonce = random.getrandbits(32).to_bytes(4, 'big')\n",
    "        digest = hashlib.sha256(secret_bytes + nonce).hexdigest()\n",
    "        if int(digest, 16) < target:\n",
    "            return nonce, digest, attempts\n",
    "        attempts += 1\n",
    "\n",
    "nonce, hash_result, tries = find_valid_nonce(secret_bytes)\n",
    "print(f\"✅ PoW Found: nonce={nonce.hex()}, hash={hash_result[:16]}..., attempts={tries}\")\n",
    "\n",
    "# --- Simulated Zero-Knowledge Proof Function ---\n",
    "# Instead of revealing `secret` and `nonce`, prover shares only:\n",
    "# a ZKP-like \"claim\" — in reality, you'd use zk-SNARKs here\n",
    "def create_proof(secret_commitment, nonce_commitment, hash_result):\n",
    "    return {\n",
    "        \"proof\": \"ZKP{proof_of_hash_preimage_under_threshold}\",\n",
    "        \"hash\": hash_result,\n",
    "        \"target\": target,\n",
    "        \"commitments\": {\n",
    "            \"secret_hash\": hashlib.sha256(secret_commitment).hexdigest(),\n",
    "            \"nonce_hash\": hashlib.sha256(nonce_commitment).hexdigest()\n",
    "        }\n",
    "    }\n",
    "\n",
    "# --- Prover commits to the inputs (hashed form only) ---\n",
    "secret_commitment = b\"xxxx\"  # Placeholder for actual Pedersen/commitment scheme\n",
    "nonce_commitment = b\"yyyy\"\n",
    "\n",
    "zk_proof = create_proof(secret_commitment, nonce_commitment, hash_result)\n",
    "\n",
    "# --- Verifier checks only the hash and threshold ---\n",
    "def verify_proof(zk_proof):\n",
    "    hash_val = int(zk_proof['hash'], 16)\n",
    "    return hash_val < zk_proof['target']\n",
    "\n",
    "print(f\"🔍 Verifier checks ZKP proof...\")\n",
    "print(\"✅ ZKP Verification:\", verify_proof(zk_proof))\n"
   ]
  }
 ],
 "metadata": {
  "kernelspec": {
   "display_name": "base",
   "language": "python",
   "name": "python3"
  },
  "language_info": {
   "codemirror_mode": {
    "name": "ipython",
    "version": 3
   },
   "file_extension": ".py",
   "mimetype": "text/x-python",
   "name": "python",
   "nbconvert_exporter": "python",
   "pygments_lexer": "ipython3",
   "version": "3.9.19"
  }
 },
 "nbformat": 4,
 "nbformat_minor": 5
}
