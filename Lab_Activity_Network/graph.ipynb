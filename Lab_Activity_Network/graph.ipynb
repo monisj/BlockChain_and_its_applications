{
 "cells": [
  {
   "cell_type": "code",
   "execution_count": null,
   "id": "6375517b",
   "metadata": {},
   "outputs": [],
   "source": [
    "import json\n",
    "import networkx as nx\n",
    "import matplotlib.pyplot as plt\n",
    "\n",
    "# Load the JSON from file\n",
    "with open(\"network.json\", \"r\") as file:\n",
    "    data = json.load(file)\n",
    "\n",
    "# Create a directed graph\n",
    "G = nx.DiGraph()\n",
    "\n",
    "# Add master node\n",
    "master = data[\"master_address\"]\n",
    "G.add_node(master, label=\"Master\", color='red')\n",
    "\n",
    "# Add linked nodes and edges\n",
    "for entry in data[\"linked_addresses\"]:\n",
    "    address = entry[\"address\"]\n",
    "    linked_to = entry[\"linked_to\"]\n",
    "    G.add_node(address, label=\"Linked\", color='skyblue')\n",
    "    G.add_edge(address, linked_to)\n",
    "\n",
    "# Draw the graph\n",
    "pos = nx.spring_layout(G)\n",
    "colors = [G.nodes[n].get('color', 'gray') for n in G.nodes]\n",
    "\n",
    "plt.figure(figsize=(10, 7))\n",
    "nx.draw(G, pos, with_labels=True, node_color=colors, node_size=2000, font_size=8, font_weight='bold', arrows=True)\n",
    "plt.title(f\"🔗 Address Network on '{data['network']}' Chain\", fontsize=14)\n",
    "plt.tight_layout()\n",
    "plt.show()\n"
   ]
  },
  {
   "cell_type": "code",
   "execution_count": null,
   "id": "33cd5c5d",
   "metadata": {},
   "outputs": [],
   "source": [
    "%pip install networkx"
   ]
  }
 ],
 "metadata": {
  "kernelspec": {
   "display_name": "base",
   "language": "python",
   "name": "python3"
  },
  "language_info": {
   "codemirror_mode": {
    "name": "ipython",
    "version": 3
   },
   "file_extension": ".py",
   "mimetype": "text/x-python",
   "name": "python",
   "nbconvert_exporter": "python",
   "pygments_lexer": "ipython3",
   "version": "3.9.19"
  }
 },
 "nbformat": 4,
 "nbformat_minor": 5
}
