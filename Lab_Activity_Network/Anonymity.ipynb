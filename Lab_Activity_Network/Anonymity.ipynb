{
 "cells": [
  {
   "cell_type": "code",
   "execution_count": null,
   "id": "f8d237f7",
   "metadata": {},
   "outputs": [
    {
     "name": "stdout",
     "output_type": "stream",
     "text": [
      "\n",
      "🔐 Blind Signature Simulation\n",
      "Signer (Master Node): 19TVh7M9UhbaVtHFKRszrmMoCfLBJmAc2RcUwa\n",
      "Sender (Node A):      13xnXAJysKKqk97mSWoRXBF9NJ3u8ZDH8Havgr\n",
      "Receiver (Node B):    1K1N7zH1ErysKyuFstj6fd63JDKy1CgsCgqPJP\n",
      "Message:              Patient X has diabetes\n",
      "Is Signature Valid?:  True\n"
     ]
    }
   ],
   "source": [
    "import json\n",
    "\n",
    "# --- Caesar Cipher Functions ---\n",
    "def caesar_encrypt(text, shift):\n",
    "    result = ''\n",
    "    for char in text:\n",
    "        if char.isalpha():\n",
    "            offset = 65 if char.isupper() else 97\n",
    "            result += chr((ord(char) - offset + shift) % 26 + offset)\n",
    "        else:\n",
    "            result += char\n",
    "    return result\n",
    "\n",
    "def caesar_decrypt(text, shift):\n",
    "    return caesar_encrypt(text, -shift)\n",
    "\n",
    "# --- Load Addresses from JSON ---\n",
    "with open(\"network.json\", \"r\") as file:\n",
    "    data = json.load(file)\n",
    "\n",
    "master_address = data[\"master_address\"]\n",
    "linked_addresses = data[\"linked_addresses\"]\n",
    "node_A = linked_addresses[0][\"address\"]\n",
    "node_B = linked_addresses[1][\"address\"]\n",
    "\n",
    "# --- Message to Transfer ---\n",
    "original_message = \"Patient X has diabetes\"\n",
    "\n",
    "# --- Step 1: Node A blinds the message using Caesar Cipher ---\n",
    "blinding_factor = 5  # Caesar shift amount\n",
    "blinded_message = caesar_encrypt(original_message, blinding_factor)\n",
    "\n",
    "# --- Step 2: Signer (master) signs the blinded message ---\n",
    "# For Caesar, we'll simulate signature as: appending [signed_by:master_address]\n",
    "signed_blinded_message = f\"{blinded_message} [signed_by:{master_address}]\"\n",
    "\n",
    "# --- Step 3: Node A unblinds the message (reverse Caesar shift) ---\n",
    "# Extract message part only\n",
    "blinded_part = signed_blinded_message.split(\" [\")[0]\n",
    "unblinded_message = caesar_decrypt(blinded_part, blinding_factor)\n",
    "\n",
    "# --- Step 4: Node B verifies if signature exists and reads the message ---\n",
    "signature_valid = master_address in signed_blinded_message\n",
    "message_received = unblinded_message if signature_valid else None\n",
    "\n",
    "# --- Output ---\n",
    "print(\"\\n🔐 Caesar Cipher Blind Signature Simulation\")\n",
    "print(f\"Signer (Master Node): {master_address}\")\n",
    "print(f\"Sender (Node A):      {node_A}\")\n",
    "print(f\"Receiver (Node B):    {node_B}\")\n",
    "print(f\"Original Message:     {original_message}\")\n",
    "print(f\"Blinded Message:      {blinded_message}\")\n",
    "print(f\"Signed Blinded Msg:   {signed_blinded_message}\")\n",
    "print(f\"Unblinded Message:    {unblinded_message}\")\n",
    "print(f\"Signature Verified?:  {signature_valid}\")\n"
   ]
  }
 ],
 "metadata": {
  "kernelspec": {
   "display_name": "base",
   "language": "python",
   "name": "python3"
  },
  "language_info": {
   "codemirror_mode": {
    "name": "ipython",
    "version": 3
   },
   "file_extension": ".py",
   "mimetype": "text/x-python",
   "name": "python",
   "nbconvert_exporter": "python",
   "pygments_lexer": "ipython3",
   "version": "3.9.19"
  }
 },
 "nbformat": 4,
 "nbformat_minor": 5
}
