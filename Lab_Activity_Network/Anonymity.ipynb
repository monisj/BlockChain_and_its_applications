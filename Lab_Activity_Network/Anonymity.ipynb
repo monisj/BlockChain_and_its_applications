{
 "cells": [
  {
   "cell_type": "code",
   "execution_count": 1,
   "id": "f8d237f7",
   "metadata": {},
   "outputs": [
    {
     "name": "stdout",
     "output_type": "stream",
     "text": [
      "\n",
      "🔐 Blind Signature Simulation\n",
      "Signer (Master Node): 19TVh7M9UhbaVtHFKRszrmMoCfLBJmAc2RcUwa\n",
      "Sender (Node A):      13xnXAJysKKqk97mSWoRXBF9NJ3u8ZDH8Havgr\n",
      "Receiver (Node B):    1K1N7zH1ErysKyuFstj6fd63JDKy1CgsCgqPJP\n",
      "Message:              Patient X has diabetes\n",
      "Is Signature Valid?:  True\n"
     ]
    }
   ],
   "source": [
    "import json\n",
    "import rsa\n",
    "import hashlib\n",
    "import random\n",
    "\n",
    "# --- Step 1: Load addresses from JSON file ---\n",
    "with open(\"network.json\", \"r\") as file:\n",
    "    data = json.load(file)\n",
    "\n",
    "master_address = data[\"master_address\"]\n",
    "linked_addresses = data[\"linked_addresses\"]\n",
    "\n",
    "node_A = linked_addresses[0][\"address\"]  # Sender\n",
    "node_B = linked_addresses[1][\"address\"]  # Receiver\n",
    "\n",
    "# --- Step 2: Message to be sent ---\n",
    "message = \"Patient X has diabetes\"\n",
    "message_hash = int.from_bytes(hashlib.sha256(message.encode()).digest(), byteorder='big')\n",
    "\n",
    "# --- Step 3: Generate RSA key pair for the signer (master node) ---\n",
    "(pubkey, privkey) = rsa.newkeys(2048)\n",
    "\n",
    "# --- Step 4: Generate a secure blinding factor ---\n",
    "n = pubkey.n\n",
    "e = pubkey.e\n",
    "while True:\n",
    "    r = random.randrange(2, n-1)\n",
    "    if rsa.common.inverse(r, n):  # Ensure r is invertible\n",
    "        break\n",
    "r_inv = rsa.common.inverse(r, n)\n",
    "\n",
    "# --- Step 5: Node A (Sender) blinds the message hash ---\n",
    "blinded_msg = (message_hash * pow(r, e, n)) % n\n",
    "\n",
    "# --- Step 6: Master node signs the blinded message ---\n",
    "blinded_signature = pow(blinded_msg, privkey.d, n)\n",
    "\n",
    "# --- Step 7: Node A unblinds the signature ---\n",
    "unblinded_signature = (blinded_signature * r_inv) % n\n",
    "\n",
    "# --- Step 8: Node B verifies the signature using master's public key ---\n",
    "verified_hash = pow(unblinded_signature, e, n)\n",
    "\n",
    "# --- Output Summary ---\n",
    "print(f\"\\n🔐 Blind Signature Simulation\")\n",
    "print(f\"Signer (Master Node): {master_address}\")\n",
    "print(f\"Sender (Node A):      {node_A}\")\n",
    "print(f\"Receiver (Node B):    {node_B}\")\n",
    "print(f\"Message:              {message}\")\n",
    "print(f\"Is Signature Valid?:  {verified_hash == message_hash}\")\n"
   ]
  }
 ],
 "metadata": {
  "kernelspec": {
   "display_name": "base",
   "language": "python",
   "name": "python3"
  },
  "language_info": {
   "codemirror_mode": {
    "name": "ipython",
    "version": 3
   },
   "file_extension": ".py",
   "mimetype": "text/x-python",
   "name": "python",
   "nbconvert_exporter": "python",
   "pygments_lexer": "ipython3",
   "version": "3.9.19"
  }
 },
 "nbformat": 4,
 "nbformat_minor": 5
}
